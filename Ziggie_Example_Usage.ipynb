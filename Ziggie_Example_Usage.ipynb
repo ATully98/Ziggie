{
 "cells": [
  {
   "cell_type": "code",
   "execution_count": 24,
   "id": "a29c0192",
   "metadata": {},
   "outputs": [
    {
     "name": "stdout",
     "output_type": "stream",
     "text": [
      "Ziggie: 0.135\n"
     ]
    }
   ],
   "source": [
    "import numpy as np\n",
    "import zig_params as zp\n",
    "\n",
    "# Load example points from text file\n",
    "pts = np.loadtxt(\"./AraiPlot.txt\")\n",
    "\n",
    "# separate x points and y points, shape: (len(pts), 1)\n",
    "Xpts = pts[:,0:1]\n",
    "Ypts = pts[:,1:2]\n",
    "# Set first and last points of fit\n",
    "seg_min = 0\n",
    "seg_max = len(pts)-1\n",
    "# calculate ziggie\n",
    "ziggie, cum_len, arc = zp.get_ziggie(Xpts, Ypts, seg_min, seg_max)\n",
    "\n",
    "print(f\"Ziggie: {ziggie:0.3f}\")"
   ]
  },
  {
   "cell_type": "code",
   "execution_count": null,
   "id": "cbbf3996",
   "metadata": {},
   "outputs": [],
   "source": []
  }
 ],
 "metadata": {
  "kernelspec": {
   "display_name": "Python 3 (ipykernel)",
   "language": "python",
   "name": "python3"
  },
  "language_info": {
   "codemirror_mode": {
    "name": "ipython",
    "version": 3
   },
   "file_extension": ".py",
   "mimetype": "text/x-python",
   "name": "python",
   "nbconvert_exporter": "python",
   "pygments_lexer": "ipython3",
   "version": "3.9.7"
  }
 },
 "nbformat": 4,
 "nbformat_minor": 5
}
