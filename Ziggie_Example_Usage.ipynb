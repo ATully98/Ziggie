{
 "cells": [
  {
   "cell_type": "code",
   "execution_count": null,
   "id": "a29c0192",
   "metadata": {},
   "outputs": [],
   "source": [
    "import numpy as np\n",
    "import zig_params as zp\n",
    "import matplotlib.pyplot as plt\n",
    "\n",
    "# Load example points from text file.\n",
    "pts = np.loadtxt(\"./AraiPlot.txt\")\n",
    "\n",
    "# if using a comma delimited file:\n",
    "# pts = np.loadtxt(\"./AraiPlot.csv\",delimiter=\",\")\n",
    "\n",
    "# separate x points and y points, shape: (len(pts), 1)\n",
    "Xpts = pts[:,0:1]\n",
    "Ypts = pts[:,1:2]\n",
    "# Set first and last points of fit\n",
    "seg_min = 0\n",
    "seg_max = len(pts)-1\n",
    "\n",
    "# set criteria, the standard value is 0.1\n",
    "criteria = 0.1\n",
    "# calculate ziggie\n",
    "ziggie, cum_len, arc, RMS = zp.get_ziggie(Xpts, Ypts, seg_min, seg_max)\n",
    "print(f\"Ziggie: {ziggie:0.3f}\")\n",
    "#print(f\"RMS: {RMS:0.3f}\")\n"
   ]
  },
  {
   "cell_type": "code",
   "execution_count": null,
   "id": "cbbf3996",
   "metadata": {},
   "outputs": [],
   "source": [
    "# Plotting\n",
    "fig, ax = plt.subplots()\n",
    "# Plot all points in light gray\n",
    "ax.plot(Xpts, Ypts, 'o-', color='lightgray', label=\"All Points\")\n",
    "# Highlight current segment\n",
    "seg_color = 'red' if ziggie >= criteria else ('orange' if ziggie < 0 else 'blue')\n",
    "ax.plot(Xpts[seg_min:seg_max+1], Ypts[seg_min:seg_max+1], 'o-', color=seg_color, label=\"Fit Segment\")\n",
    "# Display ziggie value\n",
    "ax.text(0.97, 0.97, f\"Ziggie: {ziggie:.3f}\", transform=ax.transAxes, ha='right', va='top', fontsize=16, color=seg_color)\n",
    "plt.show()"
   ]
  },
  {
   "cell_type": "code",
   "execution_count": null,
   "id": "33adc9b4",
   "metadata": {},
   "outputs": [],
   "source": [
    "# Calculate ziggie for all fits (with at least 3 points)\n",
    "n_pts = len(pts)\n",
    "# option to show RMS values\n",
    "show_rms = False\n",
    "\n",
    "# Iterate over all valid segments with at least 3 points\n",
    "for seg_min in range(n_pts - 2):\n",
    "    for seg_max in range(seg_min + 2, n_pts):\n",
    "        # Calculate ziggie for the current segment\n",
    "        ziggie, cum_len, arc, RMS = zp.get_ziggie(Xpts, Ypts, seg_min, seg_max)\n",
    "\n",
    "        # Print ziggie output\n",
    "        print(f\"start={seg_min}, end={seg_max}, Ziggie: {ziggie:0.3f}\", end=\"\")\n",
    "        if show_rms == True:\n",
    "            print(f\" RMS: {RMS:0.3f}\")\n",
    "        # Add if fit passes\n",
    "        if ziggie <= criteria:\n",
    "            if ziggie < 0:\n",
    "                print(\"  - CAUTION (ziggie less than zero)\")\n",
    "            else:\n",
    "                print(\"  - PASS\")\n",
    "\n",
    "        else:\n",
    "            print()"
   ]
  },
  {
   "cell_type": "code",
   "execution_count": null,
   "id": "3e1f5ab2",
   "metadata": {},
   "outputs": [],
   "source": []
  }
 ],
 "metadata": {
  "kernelspec": {
   "display_name": "Python 3 (ipykernel)",
   "language": "python",
   "name": "python3"
  },
  "language_info": {
   "codemirror_mode": {
    "name": "ipython",
    "version": 3
   },
   "file_extension": ".py",
   "mimetype": "text/x-python",
   "name": "python",
   "nbconvert_exporter": "python",
   "pygments_lexer": "ipython3",
   "version": "3.9.7"
  }
 },
 "nbformat": 4,
 "nbformat_minor": 5
}
